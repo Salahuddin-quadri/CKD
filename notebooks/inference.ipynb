{
 "cells": [
  {
   "cell_type": "markdown",
   "metadata": {},
   "source": [
    "Import dependencies"
   ]
  },
  {
   "cell_type": "code",
   "execution_count": 2,
   "metadata": {},
   "outputs": [],
   "source": [
    "import pandas as pd\n",
    "import os\n",
    "import sys\n"
   ]
  },
  {
   "cell_type": "code",
   "execution_count": 3,
   "metadata": {},
   "outputs": [],
   "source": [
    "\n",
    "sys.path.append('c:\\\\Users\\\\salah\\\\CKD\\\\src')\n",
    "\n",
    "from model import define_and_train_models , save_models\n",
    "from preprocessing import preprocess_data"
   ]
  },
  {
   "cell_type": "code",
   "execution_count": 4,
   "metadata": {},
   "outputs": [],
   "source": [
    "DATA_PATH = '../data/raw.csv'\n",
    "\n",
    "\n",
    "TARGET_COLUMN = 'classification' "
   ]
  },
  {
   "cell_type": "code",
   "execution_count": 5,
   "metadata": {},
   "outputs": [],
   "source": [
    "# Preprocessing\n",
    "X, y = preprocess_data(DATA_PATH , TARGET_COLUMN)\n"
   ]
  },
  {
   "cell_type": "code",
   "execution_count": 6,
   "metadata": {},
   "outputs": [
    {
     "name": "stdout",
     "output_type": "stream",
     "text": [
      "Training Logistic Regression...\n",
      "Training SVM...\n",
      "Training Decision Tree...\n",
      "Training Random Forest...\n"
     ]
    },
    {
     "name": "stderr",
     "output_type": "stream",
     "text": [
      "c:\\Users\\salah\\anaconda3\\envs\\ckd_env\\lib\\site-packages\\sklearn\\linear_model\\_logistic.py:465: ConvergenceWarning: lbfgs failed to converge (status=1):\n",
      "STOP: TOTAL NO. of ITERATIONS REACHED LIMIT.\n",
      "\n",
      "Increase the number of iterations (max_iter) or scale the data as shown in:\n",
      "    https://scikit-learn.org/stable/modules/preprocessing.html\n",
      "Please also refer to the documentation for alternative solver options:\n",
      "    https://scikit-learn.org/stable/modules/linear_model.html#logistic-regression\n",
      "  n_iter_i = _check_optimize_result(\n"
     ]
    },
    {
     "name": "stdout",
     "output_type": "stream",
     "text": [
      "Training Gradient Boosting...\n",
      "Training XGBoost...\n",
      "Training CatBoost...\n",
      "Training K-Nearest Neighbors...\n",
      "Training Naive Bayes...\n",
      "All models have been trained successfully.\n",
      "\n"
     ]
    }
   ],
   "source": [
    "\n",
    "#train the models\n",
    "trained_models = define_and_train_models(X, y)\n"
   ]
  },
  {
   "cell_type": "code",
   "execution_count": 7,
   "metadata": {},
   "outputs": [
    {
     "data": {
      "text/plain": [
       "array([[48.   , 80.   ,  1.02 , ...,  1.   ,  0.   ,  0.   ],\n",
       "       [ 7.   , 50.   ,  1.02 , ...,  1.   ,  0.   ,  0.   ],\n",
       "       [62.   , 80.   ,  1.01 , ...,  0.   ,  0.   ,  1.   ],\n",
       "       ...,\n",
       "       [12.   , 80.   ,  1.02 , ...,  1.   ,  0.   ,  0.   ],\n",
       "       [17.   , 60.   ,  1.025, ...,  1.   ,  0.   ,  0.   ],\n",
       "       [58.   , 80.   ,  1.025, ...,  1.   ,  0.   ,  0.   ]])"
      ]
     },
     "execution_count": 7,
     "metadata": {},
     "output_type": "execute_result"
    }
   ],
   "source": [
    "X"
   ]
  },
  {
   "cell_type": "code",
   "execution_count": 8,
   "metadata": {},
   "outputs": [
    {
     "data": {
      "text/plain": [
       "0      1\n",
       "1      1\n",
       "2      1\n",
       "3      1\n",
       "4      1\n",
       "      ..\n",
       "395    0\n",
       "396    0\n",
       "397    0\n",
       "398    0\n",
       "399    0\n",
       "Name: classification, Length: 400, dtype: int64"
      ]
     },
     "execution_count": 8,
     "metadata": {},
     "output_type": "execute_result"
    }
   ],
   "source": [
    "y"
   ]
  },
  {
   "cell_type": "code",
   "execution_count": 9,
   "metadata": {},
   "outputs": [
    {
     "name": "stdout",
     "output_type": "stream",
     "text": [
      "Saved Logistic Regression to ../models/Logistic_Regression.pkl\n",
      "Saved SVM to ../models/SVM.pkl\n",
      "Saved Decision Tree to ../models/Decision_Tree.pkl\n",
      "Saved Random Forest to ../models/Random_Forest.pkl\n",
      "Saved Gradient Boosting to ../models/Gradient_Boosting.pkl\n",
      "Saved XGBoost to ../models/XGBoost.pkl\n",
      "Saved CatBoost to ../models/CatBoost.pkl\n",
      "Saved K-Nearest Neighbors to ../models/K-Nearest_Neighbors.pkl\n",
      "Saved Naive Bayes to ../models/Naive_Bayes.pkl\n",
      "All models have been saved successfully.\n"
     ]
    }
   ],
   "source": [
    "#save the models\n",
    "save_models(trained_models, models_dir=\"../models/\")"
   ]
  },
  {
   "cell_type": "code",
   "execution_count": 10,
   "metadata": {},
   "outputs": [
    {
     "name": "stderr",
     "output_type": "stream",
     "text": [
      "c:\\Users\\salah\\anaconda3\\envs\\ckd_env\\lib\\site-packages\\sklearn\\utils\\validation.py:2732: UserWarning: X has feature names, but LogisticRegression was fitted without feature names\n",
      "  warnings.warn(\n",
      "c:\\Users\\salah\\anaconda3\\envs\\ckd_env\\lib\\site-packages\\sklearn\\utils\\validation.py:2732: UserWarning: X has feature names, but SVC was fitted without feature names\n",
      "  warnings.warn(\n",
      "c:\\Users\\salah\\anaconda3\\envs\\ckd_env\\lib\\site-packages\\sklearn\\utils\\validation.py:2732: UserWarning: X has feature names, but DecisionTreeClassifier was fitted without feature names\n",
      "  warnings.warn(\n",
      "c:\\Users\\salah\\anaconda3\\envs\\ckd_env\\lib\\site-packages\\sklearn\\utils\\validation.py:2732: UserWarning: X has feature names, but RandomForestClassifier was fitted without feature names\n",
      "  warnings.warn(\n",
      "c:\\Users\\salah\\anaconda3\\envs\\ckd_env\\lib\\site-packages\\sklearn\\utils\\validation.py:2732: UserWarning: X has feature names, but GradientBoostingClassifier was fitted without feature names\n",
      "  warnings.warn(\n",
      "c:\\Users\\salah\\anaconda3\\envs\\ckd_env\\lib\\site-packages\\sklearn\\utils\\validation.py:2732: UserWarning: X has feature names, but KNeighborsClassifier was fitted without feature names\n",
      "  warnings.warn(\n"
     ]
    },
    {
     "name": "stdout",
     "output_type": "stream",
     "text": [
      "Model: Logistic Regression, Prediction: Not CKD\n",
      "Model: SVM, Prediction: CKD\n",
      "Model: Decision Tree, Prediction: Not CKD\n",
      "Model: Random Forest, Prediction: Not CKD\n",
      "Model: Gradient Boosting, Prediction: Not CKD\n",
      "Model: XGBoost, Prediction: Not CKD\n",
      "Model: CatBoost, Prediction: Not CKD\n",
      "Model: K-Nearest Neighbors, Prediction: CKD\n",
      "Model: Naive Bayes, Prediction: CKD\n"
     ]
    },
    {
     "name": "stderr",
     "output_type": "stream",
     "text": [
      "c:\\Users\\salah\\anaconda3\\envs\\ckd_env\\lib\\site-packages\\sklearn\\utils\\validation.py:2732: UserWarning: X has feature names, but GaussianNB was fitted without feature names\n",
      "  warnings.warn(\n"
     ]
    }
   ],
   "source": [
    "import joblib\n",
    "import pandas as pd\n",
    "from sklearn.preprocessing import LabelEncoder\n",
    "\n",
    "# Define model paths\n",
    "MODEL_PATHS = {\n",
    "    \"Logistic Regression\": '../models/Logistic_Regression.pkl',\n",
    "    \"SVM\": '../models/SVM.pkl',\n",
    "    \"Decision Tree\": '../models/Decision_Tree.pkl',\n",
    "    \"Random Forest\": '../models/Random_Forest.pkl',\n",
    "    \"Gradient Boosting\": '../models/Gradient_Boosting.pkl',\n",
    "    \"XGBoost\": '../models/XGBoost.pkl',\n",
    "    \"CatBoost\": '../models/CatBoost.pkl',\n",
    "    \"K-Nearest Neighbors\": '../models/K-Nearest_Neighbors.pkl',\n",
    "    \"Naive Bayes\": '../models/Naive_Bayes.pkl'\n",
    "}\n",
    "\n",
    "# Load all models\n",
    "loaded_models = {name: joblib.load(path) for name, path in MODEL_PATHS.items()}\n",
    "\n",
    "# Example test data (replace this with your actual test data)\n",
    "test_data = pd.DataFrame({\n",
    "    'age': [48.0],\n",
    "    'bp': [80.0],\n",
    "    'sg': [1.02],\n",
    "    'al': [1.0],\n",
    "    'su': [0.0],\n",
    "    'rbc': ['abnormal'],\n",
    "    'pc': ['normal'],\n",
    "    'pcc': ['notpresent'],\n",
    "    'ba': ['notpresent'],\n",
    "    'bgr': [121.0],\n",
    "    'bu': [36.0],\n",
    "    'sc': [1.2],\n",
    "    'sod': [140.0],\n",
    "    'pot': [5.0],\n",
    "    'hemo': [15.4],\n",
    "    'pcv': [44],\n",
    "    'wc': [7800],\n",
    "    'rc': [5.2],\n",
    "    'htn': ['yes'],\n",
    "    'dm': ['yes'],\n",
    "    'cad': ['no'],\n",
    "    'appet': ['good'],\n",
    "    'pe': ['no'],\n",
    "    'ane': ['no']\n",
    "})\n",
    "\n",
    "# Convert categorical features to numerical (example)\n",
    "label_encoders = {}\n",
    "for column in test_data.columns:\n",
    "    if test_data[column].dtype == 'object':\n",
    "        label_encoders[column] = LabelEncoder()\n",
    "        test_data[column] = label_encoders[column].fit_transform(test_data[column])\n",
    "\n",
    "# Predict with all models\n",
    "predictions = {}\n",
    "for name, model in loaded_models.items():\n",
    "    prediction = model.predict(test_data)\n",
    "    predictions[name] = prediction[0]\n",
    "\n",
    "# Print the results\n",
    "for name, prediction in predictions.items():\n",
    "    print(f\"Model: {name}, Prediction: {'CKD' if prediction == 1 else 'Not CKD'}\")\n"
   ]
  },
  {
   "cell_type": "code",
   "execution_count": 11,
   "metadata": {},
   "outputs": [
    {
     "name": "stdout",
     "output_type": "stream",
     "text": [
      "Model: Logistic Regression, Prediction: Not CKD\n",
      "Model: SVM, Prediction: CKD\n",
      "Model: Decision Tree, Prediction: CKD\n",
      "Model: Random Forest, Prediction: CKD\n",
      "Model: Gradient Boosting, Prediction: CKD\n",
      "Model: XGBoost, Prediction: CKD\n",
      "Model: CatBoost, Prediction: CKD\n",
      "Model: K-Nearest Neighbors, Prediction: CKD\n",
      "Model: Naive Bayes, Prediction: CKD\n"
     ]
    },
    {
     "name": "stderr",
     "output_type": "stream",
     "text": [
      "c:\\Users\\salah\\anaconda3\\envs\\ckd_env\\lib\\site-packages\\sklearn\\utils\\validation.py:2732: UserWarning: X has feature names, but LogisticRegression was fitted without feature names\n",
      "  warnings.warn(\n",
      "c:\\Users\\salah\\anaconda3\\envs\\ckd_env\\lib\\site-packages\\sklearn\\utils\\validation.py:2732: UserWarning: X has feature names, but SVC was fitted without feature names\n",
      "  warnings.warn(\n",
      "c:\\Users\\salah\\anaconda3\\envs\\ckd_env\\lib\\site-packages\\sklearn\\utils\\validation.py:2732: UserWarning: X has feature names, but DecisionTreeClassifier was fitted without feature names\n",
      "  warnings.warn(\n",
      "c:\\Users\\salah\\anaconda3\\envs\\ckd_env\\lib\\site-packages\\sklearn\\utils\\validation.py:2732: UserWarning: X has feature names, but RandomForestClassifier was fitted without feature names\n",
      "  warnings.warn(\n",
      "c:\\Users\\salah\\anaconda3\\envs\\ckd_env\\lib\\site-packages\\sklearn\\utils\\validation.py:2732: UserWarning: X has feature names, but GradientBoostingClassifier was fitted without feature names\n",
      "  warnings.warn(\n",
      "c:\\Users\\salah\\anaconda3\\envs\\ckd_env\\lib\\site-packages\\sklearn\\utils\\validation.py:2732: UserWarning: X has feature names, but KNeighborsClassifier was fitted without feature names\n",
      "  warnings.warn(\n",
      "c:\\Users\\salah\\anaconda3\\envs\\ckd_env\\lib\\site-packages\\sklearn\\utils\\validation.py:2732: UserWarning: X has feature names, but GaussianNB was fitted without feature names\n",
      "  warnings.warn(\n"
     ]
    }
   ],
   "source": [
    "import joblib\n",
    "import pandas as pd\n",
    "from sklearn.preprocessing import LabelEncoder\n",
    "\n",
    "# Define model paths\n",
    "MODEL_PATHS = {\n",
    "    \"Logistic Regression\": '../models/Logistic_Regression.pkl',\n",
    "    \"SVM\": '../models/SVM.pkl',\n",
    "    \"Decision Tree\": '../models/Decision_Tree.pkl',\n",
    "    \"Random Forest\": '../models/Random_Forest.pkl',\n",
    "    \"Gradient Boosting\": '../models/Gradient_Boosting.pkl',\n",
    "    \"XGBoost\": '../models/XGBoost.pkl',\n",
    "    \"CatBoost\": '../models/CatBoost.pkl',\n",
    "    \"K-Nearest Neighbors\": '../models/K-Nearest_Neighbors.pkl',\n",
    "    \"Naive Bayes\": '../models/Naive_Bayes.pkl'\n",
    "}\n",
    "\n",
    "# Load all models\n",
    "loaded_models = {name: joblib.load(path) for name, path in MODEL_PATHS.items()}\n",
    "\n",
    "# Example test data with indicators of CKD (replace with actual test data)\n",
    "test_data = pd.DataFrame({\n",
    "    'age': [65.0],\n",
    "    'bp': [150.0],\n",
    "    'sg': [1.010],\n",
    "    'al': [3.0],\n",
    "    'su': [2.0],\n",
    "    'rbc': ['abnormal'],\n",
    "    'pc': ['abnormal'],\n",
    "    'pcc': ['present'],\n",
    "    'ba': ['present'],\n",
    "    'bgr': [350.0],\n",
    "    'bu': [120.0],\n",
    "    'sc': [3.5],\n",
    "    'sod': [135.0],\n",
    "    'pot': [5.5],\n",
    "    'hemo': [8.0],\n",
    "    'pcv': [25],\n",
    "    'wc': [12000],\n",
    "    'rc': [3.0],\n",
    "    'htn': ['yes'],\n",
    "    'dm': ['yes'],\n",
    "    'cad': ['yes'],\n",
    "    'appet': ['poor'],\n",
    "    'pe': ['yes'],\n",
    "    'ane': ['yes']\n",
    "})\n",
    "\n",
    "# Convert categorical features to numerical (example)\n",
    "label_encoders = {}\n",
    "for column in test_data.columns:\n",
    "    if test_data[column].dtype == 'object':\n",
    "        label_encoders[column] = LabelEncoder()\n",
    "        test_data[column] = label_encoders[column].fit_transform(test_data[column])\n",
    "\n",
    "# Predict with all models\n",
    "predictions = {}\n",
    "for name, model in loaded_models.items():\n",
    "    prediction = model.predict(test_data)\n",
    "    predictions[name] = prediction[0]\n",
    "\n",
    "# Print the results\n",
    "for name, prediction in predictions.items():\n",
    "    print(f\"Model: {name}, Prediction: {'CKD' if prediction == 1 else 'Not CKD'}\")\n"
   ]
  },
  {
   "cell_type": "code",
   "execution_count": 8,
   "metadata": {},
   "outputs": [
    {
     "name": "stdout",
     "output_type": "stream",
     "text": [
      "Model: Logistic Regression, Prediction: CKD\n",
      "Model: SVM, Prediction: Not CKD\n",
      "Model: Decision Tree, Prediction: Not CKD\n",
      "Model: Random Forest, Prediction: Not CKD\n",
      "Model: Gradient Boosting, Prediction: Not CKD\n",
      "Model: XGBoost, Prediction: Not CKD\n",
      "Model: CatBoost, Prediction: Not CKD\n",
      "Model: K-Nearest Neighbors, Prediction: Not CKD\n",
      "Model: Naive Bayes, Prediction: Not CKD\n"
     ]
    }
   ],
   "source": [
    "import joblib\n",
    "import pandas as pd\n",
    "from sklearn.preprocessing import LabelEncoder\n",
    "\n",
    "# Define model paths\n",
    "MODEL_PATHS = {\n",
    "    \"Logistic Regression\": '../models/Logistic_Regression.pkl',\n",
    "    \"SVM\": '../models/SVM.pkl',\n",
    "    \"Decision Tree\": '../models/Decision_Tree.pkl',\n",
    "    \"Random Forest\": '../models/Random_Forest.pkl',\n",
    "    \"Gradient Boosting\": '../models/Gradient_Boosting.pkl',\n",
    "    \"XGBoost\": '../models/XGBoost.pkl',\n",
    "    \"CatBoost\": '../models/CatBoost.pkl',\n",
    "    \"K-Nearest Neighbors\": '../models/K-Nearest_Neighbors.pkl',\n",
    "    \"Naive Bayes\": '../models/Naive_Bayes.pkl'\n",
    "}\n",
    "\n",
    "# Load all models\n",
    "loaded_models = {name: joblib.load(path) for name, path in MODEL_PATHS.items()}\n",
    "\n",
    "# Example test data with indicators of CKD (replace with actual test data)\n",
    "test_data = pd.DataFrame({\n",
    "    'age': [8.0],\n",
    "    'bp': [80.0],\n",
    "    'sg': [1.02],\n",
    "    'al': [1.0],\n",
    "    'su': [0.0],\n",
    "    'rbc': [None],\n",
    "    'pc': ['normal'],\n",
    "    'pcc': ['notpresent'],\n",
    "    'ba': ['notpresent'],\n",
    "    'bgr': [121.0],\n",
    "    'bu': [36.0],\n",
    "    'sc': [1.2],\n",
    "    'sod': [None],\n",
    "    'pot': [None],\n",
    "    'hemo': [15.4],\n",
    "    'pcv': [44],\n",
    "    'wc': [7800],\n",
    "    'rc': [5.2],\n",
    "    'htn': ['yes'],\n",
    "    'dm': ['yes'],\n",
    "    'cad': ['no'],\n",
    "    'appet': ['good'],\n",
    "    'pe': ['no'],\n",
    "    'ane': ['no']\n",
    "})\n",
    "\n",
    "# Convert categorical features to numerical (example)\n",
    "label_encoders = {}\n",
    "for column in test_data.columns:\n",
    "    if test_data[column].dtype == 'object':\n",
    "        label_encoders[column] = LabelEncoder()\n",
    "        test_data[column] = label_encoders[column].fit_transform(test_data[column])\n",
    "\n",
    "# Predict with all models\n",
    "predictions = {}\n",
    "for name, model in loaded_models.items():\n",
    "    prediction = model.predict(test_data)\n",
    "    predictions[name] = prediction[0]\n",
    "\n",
    "# Print the results\n",
    "for name, prediction in predictions.items():\n",
    "    print(f\"Model: {name}, Prediction: {'CKD' if prediction == 1 else 'Not CKD'}\")\n"
   ]
  },
  {
   "cell_type": "code",
   "execution_count": 12,
   "metadata": {},
   "outputs": [
    {
     "ename": "AttributeError",
     "evalue": "module 'pandas.compat' has no attribute 'StringIO'",
     "output_type": "error",
     "traceback": [
      "\u001b[1;31m---------------------------------------------------------------------------\u001b[0m",
      "\u001b[1;31mAttributeError\u001b[0m                            Traceback (most recent call last)",
      "Cell \u001b[1;32mIn[12], line 29\u001b[0m\n\u001b[0;32m     22\u001b[0m data \u001b[38;5;241m=\u001b[39m \u001b[38;5;124m\"\"\"\u001b[39m\n\u001b[0;32m     23\u001b[0m \u001b[38;5;124mid,age,bp,sg,al,su,rbc,pc,pcc,ba,bgr,bu,sc,sod,pot,hemo,pcv,wc,rc,htn,dm,cad,appet,pe,ane,classification\u001b[39m\n\u001b[0;32m     24\u001b[0m \u001b[38;5;124m1,63.0,70.0,1.01,3.0,0.0,abnormal,abnormal,present,notpresent,380.0,60.0,2.7,131.0,4.2,10.8,32,4500,3.8,yes,yes,no,poor,yes,no,ckd\u001b[39m\n\u001b[0;32m     25\u001b[0m \u001b[38;5;124m12,68.0,70.0,1.015,3.0,1.0,,normal,present,notpresent,208.0,72.0,2.1,138.0,5.8,9.7,28,12200,3.4,yes,yes,yes,poor,yes,no,ckd\u001b[39m\n\u001b[0;32m     26\u001b[0m \u001b[38;5;124m\"\"\"\u001b[39m\n\u001b[0;32m     28\u001b[0m \u001b[38;5;66;03m# Convert the provided data to a pandas DataFrame\u001b[39;00m\n\u001b[1;32m---> 29\u001b[0m test_data \u001b[38;5;241m=\u001b[39m pd\u001b[38;5;241m.\u001b[39mread_csv(\u001b[43mpd\u001b[49m\u001b[38;5;241;43m.\u001b[39;49m\u001b[43mcompat\u001b[49m\u001b[38;5;241;43m.\u001b[39;49m\u001b[43mStringIO\u001b[49m(data))\n\u001b[0;32m     31\u001b[0m \u001b[38;5;66;03m# Drop the 'id' and 'classification' columns\u001b[39;00m\n\u001b[0;32m     32\u001b[0m test_data \u001b[38;5;241m=\u001b[39m test_data\u001b[38;5;241m.\u001b[39mdrop(columns\u001b[38;5;241m=\u001b[39m[\u001b[38;5;124m'\u001b[39m\u001b[38;5;124mid\u001b[39m\u001b[38;5;124m'\u001b[39m, \u001b[38;5;124m'\u001b[39m\u001b[38;5;124mclassification\u001b[39m\u001b[38;5;124m'\u001b[39m])\n",
      "\u001b[1;31mAttributeError\u001b[0m: module 'pandas.compat' has no attribute 'StringIO'"
     ]
    }
   ],
   "source": [
    "import joblib\n",
    "import pandas as pd\n",
    "from sklearn.preprocessing import LabelEncoder\n",
    "\n",
    "# Define model paths\n",
    "MODEL_PATHS = {\n",
    "    \"Logistic Regression\": '../models/Logistic_Regression.pkl',\n",
    "    \"SVM\": '../models/SVM.pkl',\n",
    "    \"Decision Tree\": '../models/Decision_Tree.pkl',\n",
    "    \"Random Forest\": '../models/Random_Forest.pkl',\n",
    "    \"Gradient Boosting\": '../models/Gradient_Boosting.pkl',\n",
    "    \"XGBoost\": '../models/XGBoost.pkl',\n",
    "    \"CatBoost\": '../models/CatBoost.pkl',\n",
    "    \"K-Nearest Neighbors\": '../models/K-Nearest_Neighbors.pkl',\n",
    "    \"Naive Bayes\": '../models/Naive_Bayes.pkl'\n",
    "}\n",
    "\n",
    "# Load all models\n",
    "loaded_models = {name: joblib.load(path) for name, path in MODEL_PATHS.items()}\n",
    "\n",
    "# Provided test data\n",
    "data = \"\"\"\n",
    "id,age,bp,sg,al,su,rbc,pc,pcc,ba,bgr,bu,sc,sod,pot,hemo,pcv,wc,rc,htn,dm,cad,appet,pe,ane,classification\n",
    "1,63.0,70.0,1.01,3.0,0.0,abnormal,abnormal,present,notpresent,380.0,60.0,2.7,131.0,4.2,10.8,32,4500,3.8,yes,yes,no,poor,yes,no,ckd\n",
    "12,68.0,70.0,1.015,3.0,1.0,,normal,present,notpresent,208.0,72.0,2.1,138.0,5.8,9.7,28,12200,3.4,yes,yes,yes,poor,yes,no,ckd\n",
    "\"\"\"\n",
    "\n",
    "# Convert the provided data to a pandas DataFrame\n",
    "test_data = pd.read_csv(pd.compat.StringIO(data))\n",
    "\n",
    "# Drop the 'id' and 'classification' columns\n",
    "test_data = test_data.drop(columns=['id', 'classification'])\n",
    "\n",
    "# Convert categorical features to numerical\n",
    "label_encoders = {}\n",
    "for column in test_data.columns:\n",
    "    if test_data[column].dtype == 'object':\n",
    "        label_encoders[column] = LabelEncoder()\n",
    "        test_data[column] = label_encoders[column].fit_transform(test_data[column])\n",
    "\n",
    "# Predict with all models\n",
    "predictions = {}\n",
    "for name, model in loaded_models.items():\n",
    "    prediction = model.predict(test_data)\n",
    "    predictions[name] = prediction\n",
    "\n",
    "# Print the results\n",
    "for name, prediction in predictions.items():\n",
    "    results = ['CKD' if p == 1 else 'Not CKD' for p in prediction]\n",
    "    print(f\"Model: {name}, Predictions: {results}\")\n"
   ]
  },
  {
   "cell_type": "code",
   "execution_count": 13,
   "metadata": {},
   "outputs": [
    {
     "name": "stdout",
     "output_type": "stream",
     "text": [
      "Model: Logistic Regression, Prediction: CKD\n",
      "Model: SVM, Prediction: CKD\n",
      "Model: Decision Tree, Prediction: CKD\n",
      "Model: Random Forest, Prediction: CKD\n",
      "Model: Gradient Boosting, Prediction: CKD\n",
      "Model: XGBoost, Prediction: CKD\n",
      "Model: CatBoost, Prediction: CKD\n",
      "Model: K-Nearest Neighbors, Prediction: CKD\n",
      "Model: Naive Bayes, Prediction: CKD\n"
     ]
    },
    {
     "name": "stderr",
     "output_type": "stream",
     "text": [
      "c:\\Users\\salah\\anaconda3\\envs\\ckd_env\\lib\\site-packages\\sklearn\\utils\\validation.py:2732: UserWarning: X has feature names, but LogisticRegression was fitted without feature names\n",
      "  warnings.warn(\n",
      "c:\\Users\\salah\\anaconda3\\envs\\ckd_env\\lib\\site-packages\\sklearn\\utils\\validation.py:2732: UserWarning: X has feature names, but SVC was fitted without feature names\n",
      "  warnings.warn(\n",
      "c:\\Users\\salah\\anaconda3\\envs\\ckd_env\\lib\\site-packages\\sklearn\\utils\\validation.py:2732: UserWarning: X has feature names, but DecisionTreeClassifier was fitted without feature names\n",
      "  warnings.warn(\n",
      "c:\\Users\\salah\\anaconda3\\envs\\ckd_env\\lib\\site-packages\\sklearn\\utils\\validation.py:2732: UserWarning: X has feature names, but RandomForestClassifier was fitted without feature names\n",
      "  warnings.warn(\n",
      "c:\\Users\\salah\\anaconda3\\envs\\ckd_env\\lib\\site-packages\\sklearn\\utils\\validation.py:2732: UserWarning: X has feature names, but GradientBoostingClassifier was fitted without feature names\n",
      "  warnings.warn(\n",
      "c:\\Users\\salah\\anaconda3\\envs\\ckd_env\\lib\\site-packages\\sklearn\\utils\\validation.py:2732: UserWarning: X has feature names, but KNeighborsClassifier was fitted without feature names\n",
      "  warnings.warn(\n",
      "c:\\Users\\salah\\anaconda3\\envs\\ckd_env\\lib\\site-packages\\sklearn\\utils\\validation.py:2732: UserWarning: X has feature names, but GaussianNB was fitted without feature names\n",
      "  warnings.warn(\n"
     ]
    }
   ],
   "source": [
    "import joblib\n",
    "import pandas as pd\n",
    "from sklearn.preprocessing import LabelEncoder\n",
    "\n",
    "# Define model paths\n",
    "MODEL_PATHS = {\n",
    "    \"Logistic Regression\": '../models/Logistic_Regression.pkl',\n",
    "    \"SVM\": '../models/SVM.pkl',\n",
    "    \"Decision Tree\": '../models/Decision_Tree.pkl',\n",
    "    \"Random Forest\": '../models/Random_Forest.pkl',\n",
    "    \"Gradient Boosting\": '../models/Gradient_Boosting.pkl',\n",
    "    \"XGBoost\": '../models/XGBoost.pkl',\n",
    "    \"CatBoost\": '../models/CatBoost.pkl',\n",
    "    \"K-Nearest Neighbors\": '../models/K-Nearest_Neighbors.pkl',\n",
    "    \"Naive Bayes\": '../models/Naive_Bayes.pkl'\n",
    "}\n",
    "\n",
    "# Load all models\n",
    "loaded_models = {name: joblib.load(path) for name, path in MODEL_PATHS.items()}\n",
    "\n",
    "# Example test data with indicators of CKD (replace with actual test data)\n",
    "test_data = pd.DataFrame({\n",
    "    'age': [63.0],\n",
    "    'bp': [70.0],\n",
    "    'sg': [1.01],\n",
    "    'al': [3.0],\n",
    "    'su': [0.0],\n",
    "    'rbc': ['abnormal'],\n",
    "    'pc': ['abnormal'],\n",
    "    'pcc': ['present'],\n",
    "    'ba': ['notpresent'],\n",
    "    'bgr': [380.0],\n",
    "    'bu': [60.0],\n",
    "    'sc': [2.7],\n",
    "    'sod': [131.0],\n",
    "    'pot': [4.2],\n",
    "    'hemo': [10.8],\n",
    "    'pcv': [32],\n",
    "    'wc': [4500],\n",
    "    'rc': [3.8],\n",
    "    'htn': ['yes'],\n",
    "    'dm': ['yes'],\n",
    "    'cad': ['no'],\n",
    "    'appet': ['poor'],\n",
    "    'pe': ['yes'],\n",
    "    'ane': ['no']\n",
    "})\n",
    "\n",
    "# Convert categorical features to numerical (example)\n",
    "label_encoders = {}\n",
    "for column in test_data.columns:\n",
    "    if test_data[column].dtype == 'object':\n",
    "        label_encoders[column] = LabelEncoder()\n",
    "        test_data[column] = label_encoders[column].fit_transform(test_data[column])\n",
    "\n",
    "# Predict with all models\n",
    "predictions = {}\n",
    "for name, model in loaded_models.items():\n",
    "    prediction = model.predict(test_data)\n",
    "    predictions[name] = prediction[0]\n",
    "\n",
    "# Print the results\n",
    "for name, prediction in predictions.items():\n",
    "    print(f\"Model: {name}, Prediction: {'CKD' if prediction == 1 else 'Not CKD'}\")\n"
   ]
  },
  {
   "cell_type": "code",
   "execution_count": 11,
   "metadata": {},
   "outputs": [
    {
     "name": "stdout",
     "output_type": "stream",
     "text": [
      "Model: Logistic Regression, Prediction: CKD\n",
      "Model: SVM, Prediction: Not CKD\n",
      "Model: Decision Tree, Prediction: Not CKD\n",
      "Model: Random Forest, Prediction: Not CKD\n",
      "Model: Gradient Boosting, Prediction: CKD\n",
      "Model: XGBoost, Prediction: Not CKD\n",
      "Model: CatBoost, Prediction: Not CKD\n",
      "Model: K-Nearest Neighbors, Prediction: Not CKD\n",
      "Model: Naive Bayes, Prediction: Not CKD\n"
     ]
    }
   ],
   "source": [
    "import joblib\n",
    "import pandas as pd\n",
    "from sklearn.preprocessing import LabelEncoder\n",
    "\n",
    "# Define model paths\n",
    "MODEL_PATHS = {\n",
    "    \"Logistic Regression\": '../models/Logistic_Regression.pkl',\n",
    "    \"SVM\": '../models/SVM.pkl',\n",
    "    \"Decision Tree\": '../models/Decision_Tree.pkl',\n",
    "    \"Random Forest\": '../models/Random_Forest.pkl',\n",
    "    \"Gradient Boosting\": '../models/Gradient_Boosting.pkl',\n",
    "    \"XGBoost\": '../models/XGBoost.pkl',\n",
    "    \"CatBoost\": '../models/CatBoost.pkl',\n",
    "    \"K-Nearest Neighbors\": '../models/K-Nearest_Neighbors.pkl',\n",
    "    \"Naive Bayes\": '../models/Naive_Bayes.pkl'\n",
    "}\n",
    "\n",
    "# Load all models\n",
    "loaded_models = {name: joblib.load(path) for name, path in MODEL_PATHS.items()}\n",
    "\n",
    "# Provided test data\n",
    "test_data = pd.DataFrame({\n",
    "    'age': [40.0],\n",
    "    'bp': [80.0],\n",
    "    'sg': [1.025],\n",
    "    'al': [0.0],\n",
    "    'su': [0.0],\n",
    "    'rbc': ['normal'],\n",
    "    'pc': ['normal'],\n",
    "    'pcc': ['notpresent'],\n",
    "    'ba': ['notpresent'],\n",
    "    'bgr': [140.0],\n",
    "    'bu': [10.0],\n",
    "    'sc': [1.2],\n",
    "    'sod': [135.0],\n",
    "    'pot': [5.0],\n",
    "    'hemo': [15.0],\n",
    "    'pcv': [48],\n",
    "    'wc': [10400],\n",
    "    'rc': [4.5],\n",
    "    'htn': ['no'],\n",
    "    'dm': ['no'],\n",
    "    'cad': ['no'],\n",
    "    'appet': ['good'],\n",
    "    'pe': ['no'],\n",
    "    'ane': ['no']\n",
    "})\n",
    "\n",
    "# Convert categorical features to numerical (example)\n",
    "label_encoders = {}\n",
    "for column in test_data.columns:\n",
    "    if test_data[column].dtype == 'object':\n",
    "        label_encoders[column] = LabelEncoder()\n",
    "        test_data[column] = label_encoders[column].fit_transform(test_data[column])\n",
    "\n",
    "# Predict with all models\n",
    "predictions = {}\n",
    "for name, model in loaded_models.items():\n",
    "    prediction = model.predict(test_data)\n",
    "    predictions[name] = prediction[0]\n",
    "\n",
    "# Print the results\n",
    "for name, prediction in predictions.items():\n",
    "    print(f\"Model: {name}, Prediction: {'CKD' if prediction == 1 else 'Not CKD'}\")\n",
    "\n"
   ]
  }
 ],
 "metadata": {
  "kernelspec": {
   "display_name": "ckd_env",
   "language": "python",
   "name": "python3"
  },
  "language_info": {
   "codemirror_mode": {
    "name": "ipython",
    "version": 3
   },
   "file_extension": ".py",
   "mimetype": "text/x-python",
   "name": "python",
   "nbconvert_exporter": "python",
   "pygments_lexer": "ipython3",
   "version": "3.9.21"
  }
 },
 "nbformat": 4,
 "nbformat_minor": 2
}
